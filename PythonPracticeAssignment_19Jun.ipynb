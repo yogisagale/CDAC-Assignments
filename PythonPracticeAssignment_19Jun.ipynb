{
 "cells": [
  {
   "cell_type": "markdown",
   "metadata": {},
   "source": [
    "#### 1. For this exercise, we will keep track of when our friend’s birthdays are, and be able to find that information based on their name. Create a dictionary (in your file) of names and birthdays. When you run your program it should ask the user to enter a name, and return the birthday of that person back to them. The interaction should look something like this:\n",
    "```\n",
    ">>> Welcome to the birthday dictionary. We know the birthdays of:\n",
    "Albert Einstein\n",
    "Benjamin Franklin\n",
    "Ada Lovelace\n",
    ">>> Who's birthday do you want to look up?\n",
    "Benjamin Franklin\n",
    ">>> Benjamin Franklin's birthday is 01/17/1706\n",
    "```"
   ]
  },
  {
   "cell_type": "code",
   "execution_count": 1,
   "metadata": {
    "scrolled": false
   },
   "outputs": [
    {
     "name": "stdout",
     "output_type": "stream",
     "text": [
      "Welcome to the birthday dictionary. We know the birthdays of: \n",
      "\n",
      " * Blake Shelton\n",
      " * Paul McCartney\n",
      " * Carol Kane\n",
      " * Emma Heming\n",
      " * Willa Holland\n",
      " * Isabella Rossellini\n",
      " * Alana de la Garza\n",
      " * Blanche Sweet\n",
      " * Blanche Yurka\n",
      " * Brian Benben\n",
      " * Dick Foran\n",
      " * Elizabeth Franz\n",
      " * Eva Bartok\n",
      " * George Hearn\n",
      " * Ian Carmichael\n",
      " * Ivan Lebedeff\n",
      " * Jeanette MacDonald\n",
      " * Keye Luke\n",
      " * Kim Dickens\n",
      " * Mae Busch\n",
      " * Maggie McNamara\n",
      " * Mara Hobel\n",
      " * Marie Gillain\n",
      " * Mary Alden\n",
      " * Paul Eddington\n",
      " * Richard Boone\n",
      " * Wesley Lau\n",
      "\n",
      "\n",
      "Who's birthday do you want to look up?  Paul McCartney\n",
      "Paul McCartney's birthday is on 1942-06-18\n"
     ]
    }
   ],
   "source": [
    "import requests\n",
    "import json\n",
    "\n",
    "enpoint = \"https://celebritybucks.com/developers/birthdays/JSON\"\n",
    "\n",
    "r = requests.get(url = enpoint) \n",
    "data = r.json()\n",
    "\n",
    "print(\"Welcome to the birthday dictionary. We know the birthdays of: \\n\")\n",
    "for i in range(len(data['Birthdays'])):\n",
    "    print(\" * \" + data['Birthdays'][i]['name'])\n",
    "    \n",
    "name = input(\"\\n\\nWho's birthday do you want to look up?  \")\n",
    "\n",
    "for i in range(len(data['Birthdays'])):\n",
    "    if data['Birthdays'][i]['name'] == name:\n",
    "        print(name + \"'s birthday is on \" + data['Birthdays'][i]['dob'])"
   ]
  },
  {
   "cell_type": "markdown",
   "metadata": {},
   "source": [
    "#### 2. Implement a function that takes as input three variables, and returns the largest of the three. Do this without using the Python max() function!\n",
    "\n",
    "<u>Hint</u>: The goal of this exercise is to think about some internals that Python normally takes care of for us. All you need is some variables and if statements!\n"
   ]
  },
  {
   "cell_type": "code",
   "execution_count": 2,
   "metadata": {},
   "outputs": [
    {
     "name": "stdout",
     "output_type": "stream",
     "text": [
      "Please enter number 0  : 91\n",
      "Please enter number 1  : 891\n",
      "Please enter number 2  : 19\n",
      "Largest of the 3 numbers :  891.0\n"
     ]
    }
   ],
   "source": [
    "nums = []\n",
    "\n",
    "for i in range(3):\n",
    "    nums.append(float(input(\"Please enter number %d  : \" % i)))\n",
    "    \n",
    "nums.sort()\n",
    "print(\"Largest of the 3 numbers : \", nums[-1])"
   ]
  },
  {
   "cell_type": "markdown",
   "metadata": {},
   "source": [
    "#### 3. Time for some fake graphics! Let’s say we want to draw game boards that look like this:\n",
    "```\n",
    " --- --- --- \n",
    "|   |   |   | \n",
    " --- --- ---  \n",
    "|   |   |   | \n",
    " --- --- ---  \n",
    "|   |   |   | \n",
    " --- --- --- \n",
    "```\n",
    "This one is 3x3 (like in tic tac toe). Obviously, they come in many other sizes (8x8 for chess, 19x19 for Go, and many more).\n",
    "Ask the user what size game board they want to draw, and draw it for them to the screen using Python’s print statement.\n"
   ]
  },
  {
   "cell_type": "code",
   "execution_count": 3,
   "metadata": {},
   "outputs": [
    {
     "name": "stdout",
     "output_type": "stream",
     "text": [
      "Please enter number of rows/columns of the board: 5\n",
      " --- --- --- --- ---\n",
      "|   |   |   |   |   |\n",
      " --- --- --- --- ---\n",
      "|   |   |   |   |   |\n",
      " --- --- --- --- ---\n",
      "|   |   |   |   |   |\n",
      " --- --- --- --- ---\n",
      "|   |   |   |   |   |\n",
      " --- --- --- --- ---\n",
      "|   |   |   |   |   |\n",
      " --- --- --- --- ---\n"
     ]
    }
   ],
   "source": [
    "sides =  int(input(\"Please enter number of rows/columns of the board: \"))\n",
    "\n",
    "for i in range(sides):\n",
    "    print(\" \" + (' ').join(['---']*sides))\n",
    "    print(('   ').join(['|']*(sides+1)))\n",
    "print(\" \" + (' ').join(['---']*sides))\n"
   ]
  },
  {
   "cell_type": "markdown",
   "metadata": {},
   "source": [
    "#### 4. Write a function that takes an ordered list of numbers (a list where the elements are in order from smallest to largest) and another number. The function decides whether or not the given number is inside the list and returns (then prints) an appropriate boolean.\n",
    "<u>Hint</u>: Use binary search"
   ]
  },
  {
   "cell_type": "code",
   "execution_count": 4,
   "metadata": {},
   "outputs": [
    {
     "name": "stdout",
     "output_type": "stream",
     "text": [
      "Please enter comma-separated numbers to form list: 1,3,5,6,8,10,13\n",
      "Please enter a number to be searched: 10\n",
      "First occurrence of '10' is present at index 5\n"
     ]
    }
   ],
   "source": [
    "from bisect import bisect_left \n",
    "\n",
    "def BinarySearch(l, x): \n",
    "    i = bisect_left(l, x) \n",
    "    if i != len(l) and l[i] == x:  \n",
    "        print(\"First occurrence of '%d' is present at index %d\" % (x, i))\n",
    "    else: \n",
    "        print(x, \"is absent\") \n",
    "\n",
    "def input_list():\n",
    "    lis = input(\"Please enter comma-separated numbers to form list: \")\n",
    "    lis = lis.split(\",\")\n",
    "    return list(map(int, lis))\n",
    "\n",
    "def main():\n",
    "    lis = input_list()\n",
    "    num = int(input(\"Please enter a number to be searched: \"))\n",
    "    BinarySearch(lis, num)\n",
    "\n",
    "main()"
   ]
  },
  {
   "cell_type": "markdown",
   "metadata": {},
   "source": [
    "#### 5. Ask the user for a number and determine whether the number is prime or not. (For those who have forgotten, a prime number is a number that has no divisors). "
   ]
  },
  {
   "cell_type": "code",
   "execution_count": 6,
   "metadata": {},
   "outputs": [
    {
     "name": "stdout",
     "output_type": "stream",
     "text": [
      "Enter a value: 7919\n",
      "Is it Prime =>  True\n"
     ]
    }
   ],
   "source": [
    "from math import factorial\n",
    "\n",
    "def wilsons_formula(num):\n",
    "    return True if factorial(num-1)%num == (num-1) else False\n",
    "\n",
    "def main():\n",
    "    num = int(input(\"Enter a value: \"))\n",
    "    print(\"Is it Prime => \", wilsons_formula(num))\n",
    "\n",
    "main()"
   ]
  }
 ],
 "metadata": {
  "kernelspec": {
   "display_name": "Python 3",
   "language": "python",
   "name": "python3"
  },
  "language_info": {
   "codemirror_mode": {
    "name": "ipython",
    "version": 3
   },
   "file_extension": ".py",
   "mimetype": "text/x-python",
   "name": "python",
   "nbconvert_exporter": "python",
   "pygments_lexer": "ipython3",
   "version": "3.8.2"
  }
 },
 "nbformat": 4,
 "nbformat_minor": 4
}
