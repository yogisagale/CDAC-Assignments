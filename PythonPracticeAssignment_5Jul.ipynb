{
 "cells": [
  {
   "cell_type": "code",
   "execution_count": 1,
   "metadata": {},
   "outputs": [],
   "source": [
    "# Utilities: Helper functions\n",
    "\n",
    "def input_positive_integer(msg):\n",
    "    try:\n",
    "        num = int(input(msg))\n",
    "    except ValueError:\n",
    "        print(\"Please input positive integers only!\")\n",
    "        num = int(input(msg))\n",
    "    if num < 0:\n",
    "        print(\"Please input positive integers only!\")\n",
    "        num = int(input(msg))\n",
    "    return num"
   ]
  },
  {
   "cell_type": "markdown",
   "metadata": {},
   "source": [
    "### Q1. In cryptography, a Caesar cipher is a very simple encryption technique in which each letter in the plain text is replaced by a letter some fixed number of positions down the alphabet.\n",
    "<u>For example</u>, with a shift of 3, A would be replaced by D, B would become E, and so on. The method is named after Julius Caesar, who used it to communicate with his generals. ROT-13 (\"rotate by 13 places\") is a widely used example of a Caesar cipher where the shift is 13. In Python, the key for ROT-13 may be represented by means of the following dictionary:\n",
    "\n",
    "```\n",
    "key = {'a':'n', 'b':'o', 'c':'p', 'd':'q', 'e':'r', 'f':'s', 'g':'t', 'h':'u', 'i':'v', 'j':'w', 'k':'x', 'l':'y', 'm':'z', 'n':'a', 'o':'b', 'p':'c', 'q':'d', 'r':'e', 's':'f', 't':'g', 'u':'h', 'v':'i', 'w':'j', 'x':'k', 'y':'l', 'z':'m', 'A':'N', 'B':'O', 'C':'P', 'D':'Q', 'E':'R', 'F':'S', 'G':'T', 'H':'U', 'I':'V', 'J':'W', 'K':'X', 'L':'Y', 'M':'Z', 'N':'A', 'O':'B', 'P':'C', 'Q':'D', 'R':'E', 'S':'F', 'T':'G', 'U':'H', 'V':'I', 'W':'J', 'X':'K', 'Y':'L', 'Z':'M'}\n",
    "```\n",
    "\n",
    "Your task in this exercise is to implement an encoder/decoder of ROT-13. Once you're done, you will be able to read the following secret message:\n",
    "\n",
    "```Pnrfne pvcure? V zhpu cersre Pnrfne fnynq!```\n",
    "\n",
    "<u>Note</u> that since English has 26 characters, your ROT-13 program will be able to both encode and decode texts written in English.\n"
   ]
  },
  {
   "cell_type": "code",
   "execution_count": 2,
   "metadata": {},
   "outputs": [
    {
     "name": "stdout",
     "output_type": "stream",
     "text": [
      "Do you wish to encode(1) of decode(2) : 2\n",
      "Please enter a string : Pnrfne pvcure? V zhpu cersre Pnrfne fnynq!\n",
      "Decoded string :  Caesar cipher? I much prefer Caesar salad!\n"
     ]
    }
   ],
   "source": [
    "alpha = 'ABCDEFGHIJKLMNOPQRSTUVWXYZabcdefghijklmnopqrstuvwxyz'\n",
    "rot_13 = 'NOPQRSTUVWXYZABCDEFGHIJKLMnopqrstuvwxyzabcdefghijklm'\n",
    "rot_dict = {k: v for k, v in zip(alpha, rot_13)}\n",
    "inverse_rot_dict = {k: v for k, v in zip(rot_13, alpha)}\n",
    "\n",
    "\n",
    "def encode_rot13(string):\n",
    "    return ''.join(map(lambda x: rot_dict.get(x, x), string))\n",
    "\n",
    "\n",
    "def decode_rot13(string):\n",
    "    return ''.join(map(lambda x: inverse_rot_dict.get(x, x), string))\n",
    "\n",
    "\n",
    "def main():\n",
    "    opt = input(\"Do you wish to encode(1) of decode(2) : \").strip()\n",
    "    if opt == '1':\n",
    "        string = input(\"Please enter a string : \")\n",
    "        print(\"Encoded string : \", encode_rot13(string))\n",
    "    elif opt == '2':\n",
    "        string = input(\"Please enter a string : \")\n",
    "        print(\"Decoded string : \", decode_rot13(string))\n",
    "    else:\n",
    "        print(\"Err! Wrong Selection!\")\n",
    "\n",
    "\n",
    "if __name__ == \"__main__\":\n",
    "    main()"
   ]
  },
  {
   "cell_type": "markdown",
   "metadata": {},
   "source": [
    "### Q2. Given a dictionary of students and their favourite colours: \n",
    "```people={'Arham':'Blue','Lisa':'Yellow',''Vinod:'Purple','Jenny':'Pink'}```\n",
    "\n",
    "#### (i) Find out how many students are in the list \n",
    "* Change Lisa’s   favourite   colour<br/>\n",
    "* Remove 'Jenny' and     her favourite  colour<br/>\n",
    "* Sort and print students and their favourite colours alphabetically by name\n",
    "\n",
    "#### (ii) Write a function translate () that will translate a text into \"rövarspråket\" (Swedish for \"robber's language\"). That is, double every consonant and place an occurrence of \"o\" in between. For example, translate (\"this is fun\") should return the string \"tothohisos isos fofunon\".\n"
   ]
  },
  {
   "cell_type": "code",
   "execution_count": 3,
   "metadata": {
    "scrolled": true
   },
   "outputs": [
    {
     "name": "stdout",
     "output_type": "stream",
     "text": [
      "Which color do want Lisa's favortive color to be? Glaucous\n",
      "Number of students :  4\n",
      "Dict before change in color of 'Lisa' :  {'Arham': 'Blue', 'Lisa': 'Yellow', 'Vinod': 'Purple', 'Jenny': 'Pink'}\n",
      "Dict after change in color of 'Lisa' :  {'Arham': 'Blue', 'Lisa': 'Glaucous', 'Vinod': 'Purple', 'Jenny': 'Pink'}\n",
      "Dict before removal of 'Jenny' :  {'Arham': 'Blue', 'Lisa': 'Glaucous', 'Vinod': 'Purple', 'Jenny': 'Pink'}\n",
      "Dict before removal of 'Jenny' :  {'Arham': 'Blue', 'Lisa': 'Glaucous', 'Vinod': 'Purple'}\n",
      ":: Students and their color after sorting ::\n",
      "Arham's favorite color is Blue.\n",
      "Lisa's favorite color is Glaucous.\n",
      "Vinod's favorite color is Purple.\n"
     ]
    }
   ],
   "source": [
    "# First Part\n",
    "\n",
    "def people_colour(lis_color):\n",
    "    people = {'Arham': 'Blue', 'Lisa': 'Yellow',\n",
    "              'Vinod': 'Purple', 'Jenny': 'Pink'}\n",
    "    print(\"Number of students : \", len(people.values()))\n",
    "    print(\"Dict before change in color of 'Lisa' : \", people)\n",
    "    people['Lisa'] = lis_color\n",
    "    print(\"Dict after change in color of 'Lisa' : \", people)\n",
    "    print(\"Dict before removal of 'Jenny' : \", people)\n",
    "    del people['Jenny']\n",
    "    print(\"Dict before removal of 'Jenny' : \", people)\n",
    "    names = list(people.keys())\n",
    "    print(\":: Students and their color after sorting ::\")\n",
    "    names.sort()\n",
    "    for name in names:\n",
    "        print(\"{0}'s favorite color is {1}.\".format(name, people[name]))\n",
    "\n",
    "\n",
    "if __name__ == \"__main__\":\n",
    "    new_color = input(\"Which color do want Lisa's favortive color to be? \") \n",
    "    people_colour(new_color)"
   ]
  },
  {
   "cell_type": "code",
   "execution_count": 4,
   "metadata": {},
   "outputs": [
    {
     "name": "stdout",
     "output_type": "stream",
     "text": [
      "Please enter some string : What came before? Chicken or the egg?\n",
      "Encoded text :  Whohatot cocamome bobefoforore? Chohicockokenon oror tothohe egoggog?\n"
     ]
    }
   ],
   "source": [
    "#Part Two\n",
    "\n",
    "import re\n",
    "\n",
    "\n",
    "def srl_translator(string):\n",
    "    con_reg = re.compile(r\"([b-df-hj-np-tv-xz])\")\n",
    "    return re.sub(con_reg, r\"\\1o\\1\", string)\n",
    "\n",
    "\n",
    "if __name__ == \"__main__\":\n",
    "    string = input(\"Please enter some string : \")\n",
    "    print(\"Encoded text : \", srl_translator(string))"
   ]
  },
  {
   "cell_type": "markdown",
   "metadata": {},
   "source": [
    "### Q. 3. Write a program that contains a function that has one parameter, n, representing an integer greater than 0. The function should return n! (n factorial). Then write a main function that calls this function with the values 1 through 20, one at a time, printing the returned results.\n",
    "```\n",
    "This is what your output should look like:\n",
    "\n",
    "1    1\n",
    "2    2 \n",
    "3    6\n",
    "4    24\n",
    "5    120\n",
    "6    720\n",
    "7    5040 \n",
    "8    40320 \n",
    "9    362880\n",
    "10   3628800\n",
    "```"
   ]
  },
  {
   "cell_type": "code",
   "execution_count": 5,
   "metadata": {},
   "outputs": [
    {
     "name": "stdout",
     "output_type": "stream",
     "text": [
      "1!\t 1\n",
      "2!\t 2\n",
      "3!\t 6\n",
      "4!\t 24\n",
      "5!\t 120\n",
      "6!\t 720\n",
      "7!\t 5040\n",
      "8!\t 40320\n",
      "9!\t 362880\n",
      "10!\t 3628800\n",
      "11!\t 39916800\n",
      "12!\t 479001600\n",
      "13!\t 6227020800\n",
      "14!\t 87178291200\n",
      "15!\t 1307674368000\n",
      "16!\t 20922789888000\n",
      "17!\t 355687428096000\n",
      "18!\t 6402373705728000\n",
      "19!\t 121645100408832000\n",
      "20!\t 2432902008176640000\n"
     ]
    }
   ],
   "source": [
    "from functools import reduce\n",
    "\n",
    "\n",
    "def factorial(num):\n",
    "    print(\"%d!\\t\" % num, int(reduce(lambda x, y: x * y, range(1, num + 1))))\n",
    "\n",
    "\n",
    "def main():\n",
    "    for i in range(1, 21):\n",
    "        factorial(i)\n",
    "\n",
    "\n",
    "if __name__ == \"__main__\":\n",
    "    main()"
   ]
  },
  {
   "cell_type": "markdown",
   "metadata": {},
   "source": [
    "### Q.4 We can define sum from 1 to x (i.e. 1 + 2 + ... + x) recursively as follows:\n",
    "```\n",
    "for integer x ≥ 1:\n",
    "1, if x = 1\n",
    "x + sum from 1 to x-1 if x > 1\n",
    "Complete the following Python program to compute\n",
    "the sum 1 + 2 + 3 + 4 + 5 + 6 + 7 + 8 + 9 + 10 recursively:\n",
    "\n",
    "def main():\n",
    "    # compute and print 1 + 2 + ... + 10\n",
    "    print sum(10)\n",
    "\n",
    "def sum(x):\n",
    "# you complete this function recursively main()\n",
    "```"
   ]
  },
  {
   "cell_type": "code",
   "execution_count": 6,
   "metadata": {},
   "outputs": [
    {
     "name": "stdout",
     "output_type": "stream",
     "text": [
      "Enter the limiting number : 10\n",
      "Sum until  10 : 55\n"
     ]
    }
   ],
   "source": [
    "def sum(x):\n",
    "    if x == 1:\n",
    "        return 1\n",
    "    else:\n",
    "        return x + sum(x-1)\n",
    "\n",
    "\n",
    "def main():\n",
    "    num = input_positive_integer(\"Enter the limiting number : \")\n",
    "    print(\"Sum until \", num, \":\", sum(num))\n",
    "\n",
    "\n",
    "if __name__ == \"__main__\":\n",
    "    main()"
   ]
  },
  {
   "cell_type": "markdown",
   "metadata": {},
   "source": [
    "### Q.5. Define a function overlapping () that takes two lists and returns True if they have at least one member in common, False otherwise."
   ]
  },
  {
   "cell_type": "code",
   "execution_count": 7,
   "metadata": {},
   "outputs": [
    {
     "name": "stdout",
     "output_type": "stream",
     "text": [
      "Please enter List 1 items (comma-separated) : q,w,e,r,t,y\n",
      "Please enter List 2 items (comma-separated) : a,b,c,d,e\n",
      "Do Overlapping item exist?  True\n"
     ]
    }
   ],
   "source": [
    "def overlapping(lst1, lst2):\n",
    "    lst1 = set(lst1)\n",
    "    lst2 = set(lst2)\n",
    "    return False if lst1 & lst2 == set() else True\n",
    "\n",
    "def main():\n",
    "    input_lst1 = input(\"Please enter List 1 items (comma-separated) : \").\\\n",
    "        strip().split(\",\")\n",
    "    input_lst2 = input(\"Please enter List 2 items (comma-separated) : \").\\\n",
    "        strip().split(\",\")\n",
    "    print(\"Do Overlapping item exist? \", overlapping(input_lst1, input_lst2))\n",
    "\n",
    "\n",
    "if __name__ == \"__main__\":\n",
    "    main()"
   ]
  }
 ],
 "metadata": {
  "kernelspec": {
   "display_name": "Python 3",
   "language": "python",
   "name": "python3"
  },
  "language_info": {
   "codemirror_mode": {
    "name": "ipython",
    "version": 3
   },
   "file_extension": ".py",
   "mimetype": "text/x-python",
   "name": "python",
   "nbconvert_exporter": "python",
   "pygments_lexer": "ipython3",
   "version": "3.8.2"
  }
 },
 "nbformat": 4,
 "nbformat_minor": 4
}
