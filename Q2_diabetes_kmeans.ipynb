{
 "cells": [
  {
   "cell_type": "markdown",
   "metadata": {},
   "source": [
    "## 2. Use diabetes dataset and perform the following:\n",
    "1. Implement Pre-processing functions\n",
    "    - check for NULL values in the dataset. If any NULL value is present then treat it accordingly.\n",
    "    - extract only feature columns from the dataset.\n",
    "2. Determine the number of clusters using Elbow method.\n",
    "3. Apply k-means clustering using the value of k determined in step (2).\n",
    "4. Form the clusters.\n",
    "5. Evaluate the quality of clusters formed by k-means"
   ]
  },
  {
   "cell_type": "code",
   "execution_count": 1,
   "metadata": {},
   "outputs": [],
   "source": [
    "import pandas as pd\n",
    "import numpy as np\n",
    "import matplotlib.pyplot as plt"
   ]
  },
  {
   "cell_type": "code",
   "execution_count": 1,
   "metadata": {},
   "outputs": [
    {
     "data": {
      "application/javascript": [
       "\n",
       "        if (window._pyforest_update_imports_cell) { window._pyforest_update_imports_cell('import pandas as pd'); }\n",
       "    "
      ],
      "text/plain": [
       "<IPython.core.display.Javascript object>"
      ]
     },
     "metadata": {},
     "output_type": "display_data"
    },
    {
     "data": {
      "text/html": [
       "<div>\n",
       "<style scoped>\n",
       "    .dataframe tbody tr th:only-of-type {\n",
       "        vertical-align: middle;\n",
       "    }\n",
       "\n",
       "    .dataframe tbody tr th {\n",
       "        vertical-align: top;\n",
       "    }\n",
       "\n",
       "    .dataframe thead th {\n",
       "        text-align: right;\n",
       "    }\n",
       "</style>\n",
       "<table border=\"1\" class=\"dataframe\">\n",
       "  <thead>\n",
       "    <tr style=\"text-align: right;\">\n",
       "      <th></th>\n",
       "      <th>Pregnancies</th>\n",
       "      <th>Glucose</th>\n",
       "      <th>BloodPressure</th>\n",
       "      <th>SkinThickness</th>\n",
       "      <th>Insulin</th>\n",
       "      <th>BMI</th>\n",
       "      <th>DiabetesPedigreeFunction</th>\n",
       "      <th>Age</th>\n",
       "      <th>Outcome</th>\n",
       "    </tr>\n",
       "  </thead>\n",
       "  <tbody>\n",
       "    <tr>\n",
       "      <th>267</th>\n",
       "      <td>2</td>\n",
       "      <td>128</td>\n",
       "      <td>64</td>\n",
       "      <td>42</td>\n",
       "      <td>0</td>\n",
       "      <td>40.0</td>\n",
       "      <td>1.101</td>\n",
       "      <td>24</td>\n",
       "      <td>0</td>\n",
       "    </tr>\n",
       "    <tr>\n",
       "      <th>181</th>\n",
       "      <td>0</td>\n",
       "      <td>119</td>\n",
       "      <td>64</td>\n",
       "      <td>18</td>\n",
       "      <td>92</td>\n",
       "      <td>34.9</td>\n",
       "      <td>0.725</td>\n",
       "      <td>23</td>\n",
       "      <td>0</td>\n",
       "    </tr>\n",
       "    <tr>\n",
       "      <th>536</th>\n",
       "      <td>0</td>\n",
       "      <td>105</td>\n",
       "      <td>90</td>\n",
       "      <td>0</td>\n",
       "      <td>0</td>\n",
       "      <td>29.6</td>\n",
       "      <td>0.197</td>\n",
       "      <td>46</td>\n",
       "      <td>0</td>\n",
       "    </tr>\n",
       "    <tr>\n",
       "      <th>67</th>\n",
       "      <td>2</td>\n",
       "      <td>109</td>\n",
       "      <td>92</td>\n",
       "      <td>0</td>\n",
       "      <td>0</td>\n",
       "      <td>42.7</td>\n",
       "      <td>0.845</td>\n",
       "      <td>54</td>\n",
       "      <td>0</td>\n",
       "    </tr>\n",
       "    <tr>\n",
       "      <th>669</th>\n",
       "      <td>9</td>\n",
       "      <td>154</td>\n",
       "      <td>78</td>\n",
       "      <td>30</td>\n",
       "      <td>100</td>\n",
       "      <td>30.9</td>\n",
       "      <td>0.164</td>\n",
       "      <td>45</td>\n",
       "      <td>0</td>\n",
       "    </tr>\n",
       "  </tbody>\n",
       "</table>\n",
       "</div>"
      ],
      "text/plain": [
       "     Pregnancies  Glucose  BloodPressure  SkinThickness  Insulin   BMI  \\\n",
       "267            2      128             64             42        0  40.0   \n",
       "181            0      119             64             18       92  34.9   \n",
       "536            0      105             90              0        0  29.6   \n",
       "67             2      109             92              0        0  42.7   \n",
       "669            9      154             78             30      100  30.9   \n",
       "\n",
       "     DiabetesPedigreeFunction  Age  Outcome  \n",
       "267                     1.101   24        0  \n",
       "181                     0.725   23        0  \n",
       "536                     0.197   46        0  \n",
       "67                      0.845   54        0  \n",
       "669                     0.164   45        0  "
      ]
     },
     "metadata": {},
     "output_type": "display_data"
    }
   ],
   "source": [
    "data = pd.read_csv(\"D:\\\\Dataset\\\\diabetes.csv\")\n",
    "display(data.sample(5))"
   ]
  },
  {
   "cell_type": "code",
   "execution_count": 2,
   "metadata": {},
   "outputs": [
    {
     "data": {
      "application/javascript": [
       "\n",
       "        if (window._pyforest_update_imports_cell) { window._pyforest_update_imports_cell('import numpy as np\\nimport pandas as pd'); }\n",
       "    "
      ],
      "text/plain": [
       "<IPython.core.display.Javascript object>"
      ]
     },
     "metadata": {},
     "output_type": "display_data"
    },
    {
     "name": "stdout",
     "output_type": "stream",
     "text": [
      "Pregnancies                   0\n",
      "Glucose                       5\n",
      "BloodPressure                35\n",
      "SkinThickness               227\n",
      "Insulin                     374\n",
      "BMI                          11\n",
      "DiabetesPedigreeFunction      0\n",
      "Age                           0\n",
      "Outcome                       0\n",
      "dtype: int64\n"
     ]
    }
   ],
   "source": [
    "# Zeros in BloodPressure, Glucose, SkinThickness, Insulin, BMI are actually missing values.\n",
    "data[['BloodPressure', 'Glucose', 'SkinThickness', 'Insulin', 'BMI']] = data[['BloodPressure', 'Glucose', 'SkinThickness', 'Insulin', 'BMI']].replace(0, np.nan)\n",
    "print(data.isnull().sum())"
   ]
  },
  {
   "cell_type": "code",
   "execution_count": 4,
   "metadata": {},
   "outputs": [],
   "source": [
    "from sklearn.impute import SimpleImputer\n",
    "\n",
    "\n",
    "simputer_mode = SimpleImputer(strategy='most_frequent')\n",
    "simputer_mean = SimpleImputer(strategy='mean')"
   ]
  },
  {
   "cell_type": "code",
   "execution_count": 5,
   "metadata": {},
   "outputs": [],
   "source": [
    "data['BloodPressure'] = simputer_mode.fit_transform(data['BloodPressure'].values.reshape(-1, 1))\n",
    "data['SkinThickness'] = simputer_mean.fit_transform(data['SkinThickness'].values.reshape(-1, 1))\n",
    "data['Glucose'] = simputer_mode.fit_transform(data['Glucose'].values.reshape(-1, 1))\n",
    "data['Insulin'] = simputer_mode.fit_transform(data['Insulin'].values.reshape(-1, 1))\n",
    "data['BMI'] = simputer_mode.fit_transform(data['BMI'].values.reshape(-1, 1))"
   ]
  },
  {
   "cell_type": "code",
   "execution_count": 6,
   "metadata": {},
   "outputs": [
    {
     "name": "stdout",
     "output_type": "stream",
     "text": [
      "Pregnancies                 0\n",
      "Glucose                     0\n",
      "BloodPressure               0\n",
      "SkinThickness               0\n",
      "Insulin                     0\n",
      "BMI                         0\n",
      "DiabetesPedigreeFunction    0\n",
      "Age                         0\n",
      "Outcome                     0\n",
      "dtype: int64\n"
     ]
    }
   ],
   "source": [
    "print(data.isnull().sum())"
   ]
  },
  {
   "cell_type": "code",
   "execution_count": 7,
   "metadata": {},
   "outputs": [],
   "source": [
    "X = data.drop('Outcome', axis=1)\n",
    "y = data['Outcome']"
   ]
  },
  {
   "cell_type": "code",
   "execution_count": 8,
   "metadata": {},
   "outputs": [],
   "source": [
    "from sklearn.model_selection import train_test_split\n",
    "\n",
    "X_train, X_test, y_train, y_test = train_test_split(X, y, test_size=0.3, random_state=1)"
   ]
  },
  {
   "cell_type": "code",
   "execution_count": 9,
   "metadata": {},
   "outputs": [
    {
     "data": {
      "image/png": "[encoded data removed]",
      "text/plain": [
       "<Figure size 432x288 with 1 Axes>"
      ]
     },
     "metadata": {
      "needs_background": "light"
     },
     "output_type": "display_data"
    }
   ],
   "source": [
    "from sklearn.cluster import KMeans\n",
    "\n",
    "inertias = []\n",
    "for i in range(1, 11):\n",
    "    km = KMeans(n_clusters=i, init='random', n_init=10, max_iter=1000, tol=1e-04, random_state=1)\n",
    "    km.fit(X)\n",
    "    inertias.append(km.inertia_)\n",
    "\n",
    "# plot\n",
    "plt.plot(range(1, 11), inertias, marker='*')\n",
    "plt.xlabel('Number of clusters')\n",
    "plt.ylabel('Inertia')\n",
    "plt.title(\"Cluster vs Inertia\")\n",
    "plt.show()"
   ]
  },
  {
   "cell_type": "markdown",
   "metadata": {},
   "source": [
    "Judging from the graph, the elbow curves when number of cluster is 2. Hence selecting n_clusters = 2."
   ]
  },
  {
   "cell_type": "code",
   "execution_count": 10,
   "metadata": {},
   "outputs": [],
   "source": [
    "from sklearn.cluster import KMeans\n",
    "\n",
    "km = KMeans(n_clusters=2, init='random', n_init=10, max_iter=1000, random_state=1)\n",
    "\n",
    "km.fit(X_train)\n",
    "y_pred = km.predict(X_test)"
   ]
  },
  {
   "cell_type": "code",
   "execution_count": 11,
   "metadata": {},
   "outputs": [
    {
     "name": "stdout",
     "output_type": "stream",
     "text": [
      "Accuracy(quality) of the model :  0.6406926406926406\n"
     ]
    }
   ],
   "source": [
    "from sklearn.metrics import accuracy_score\n",
    "\n",
    "print(\"Accuracy(quality) of the model : \", accuracy_score(y_test, y_pred))"
   ]
  },
  {
   "cell_type": "code",
   "execution_count": 12,
   "metadata": {},
   "outputs": [
    {
     "data": {
      "image/png": "[encoded data removed]",
      "text/plain": [
       "<Figure size 720x720 with 1 Axes>"
      ]
     },
     "metadata": {
      "needs_background": "light"
     },
     "output_type": "display_data"
    }
   ],
   "source": [
    "plt.figure(figsize=(10,10))\n",
    "# plot the 2 clusters\n",
    "plt.scatter( X_test[y_pred == 0].iloc[:, 4], X_test[y_pred == 0].iloc[:, 7], c='green', label='Non-Diabetic')\n",
    "plt.scatter( X_test[y_pred == 1].iloc[:, 4], X_test[y_pred == 1].iloc[:, 7], c='cyan', label='Diabetic')\n",
    "\n",
    "# plot the centroids\n",
    "plt.scatter(km.cluster_centers_[:, 4], km.cluster_centers_[:, 7], marker='o', c='red', s=50,\n",
    "            edgecolor='black', label='centroids')\n",
    "\n",
    "plt.legend()\n",
    "plt.xlabel('Insulin')\n",
    "plt.ylabel('Age')\n",
    "plt.show()"
   ]
  }
 ],
 "metadata": {
  "kernelspec": {
   "display_name": "Python 3",
   "language": "python",
   "name": "python3"
  },
  "language_info": {
   "codemirror_mode": {
    "name": "ipython",
    "version": 3
   },
   "file_extension": ".py",
   "mimetype": "text/x-python",
   "name": "python",
   "nbconvert_exporter": "python",
   "pygments_lexer": "ipython3",
   "version": "3.8.5"
  }
 },
 "nbformat": 4,
 "nbformat_minor": 4
}
